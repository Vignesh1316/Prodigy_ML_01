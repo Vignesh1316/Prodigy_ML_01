{
  "nbformat": 4,
  "nbformat_minor": 0,
  "metadata": {
    "colab": {
      "provenance": [],
      "authorship_tag": "ABX9TyP+6chr5w2QAKJPNrQO3JsJ",
      "include_colab_link": true
    },
    "kernelspec": {
      "name": "python3",
      "display_name": "Python 3"
    },
    "language_info": {
      "name": "python"
    }
  },
  "cells": [
    {
      "cell_type": "markdown",
      "metadata": {
        "id": "view-in-github",
        "colab_type": "text"
      },
      "source": [
        "<a href=\"https://colab.research.google.com/github/Vignesh1316/Prodigy_ML_01/blob/main/Untitled4.ipynb\" target=\"_parent\"><img src=\"https://colab.research.google.com/assets/colab-badge.svg\" alt=\"Open In Colab\"/></a>"
      ]
    },
    {
      "cell_type": "code",
      "execution_count": null,
      "metadata": {
        "colab": {
          "base_uri": "https://localhost:8080/"
        },
        "id": "BrLfnjE9zJ8r",
        "outputId": "608282e2-4ae7-4cf1-c9d6-948110494b84"
      },
      "outputs": [
        {
          "output_type": "stream",
          "name": "stdout",
          "text": [
            "   Id  MSSubClass MSZoning  LotFrontage  LotArea Street Alley LotShape  \\\n",
            "0   1          60       RL         65.0     8450   Pave   NaN      Reg   \n",
            "1   2          20       RL         80.0     9600   Pave   NaN      Reg   \n",
            "2   3          60       RL         68.0    11250   Pave   NaN      IR1   \n",
            "3   4          70       RL         60.0     9550   Pave   NaN      IR1   \n",
            "4   5          60       RL         84.0    14260   Pave   NaN      IR1   \n",
            "\n",
            "  LandContour Utilities  ... PoolArea PoolQC Fence MiscFeature MiscVal MoSold  \\\n",
            "0         Lvl    AllPub  ...        0    NaN   NaN         NaN       0      2   \n",
            "1         Lvl    AllPub  ...        0    NaN   NaN         NaN       0      5   \n",
            "2         Lvl    AllPub  ...        0    NaN   NaN         NaN       0      9   \n",
            "3         Lvl    AllPub  ...        0    NaN   NaN         NaN       0      2   \n",
            "4         Lvl    AllPub  ...        0    NaN   NaN         NaN       0     12   \n",
            "\n",
            "  YrSold  SaleType  SaleCondition  SalePrice  \n",
            "0   2008        WD         Normal     208500  \n",
            "1   2007        WD         Normal     181500  \n",
            "2   2008        WD         Normal     223500  \n",
            "3   2006        WD        Abnorml     140000  \n",
            "4   2008        WD         Normal     250000  \n",
            "\n",
            "[5 rows x 81 columns]\n",
            "Mean Squared Error: 2848523443.419101\n",
            "R^2 Score: 0.6286307301050608\n",
            "   GrLivArea  BedroomAbvGr  TotalBath  PredictedPrice\n",
            "0       2000             3        2.5   245907.789748\n",
            "1       1500             2        1.5   195151.666927\n",
            "2       1800             4        3.0   212676.482038\n"
          ]
        }
      ],
      "source": [
        "import pandas as pd\n",
        "import numpy as np\n",
        "from sklearn.model_selection import train_test_split\n",
        "from sklearn.linear_model import LinearRegression\n",
        "from sklearn.metrics import mean_squared_error, r2_score\n",
        "\n",
        "# Load the dataset\n",
        "file_path = 'train.csv'\n",
        "df = pd.read_csv(file_path)\n",
        "\n",
        "# Display the first few rows of the dataframe to understand its structure\n",
        "print(df.head())\n",
        "\n",
        "# Handle missing values by filling with the mean for numeric columns\n",
        "df.fillna(df.mean(numeric_only=True), inplace=True)\n",
        "\n",
        "# Create a new feature for the total number of bathrooms\n",
        "df['TotalBath'] = df['FullBath'] + 0.5 * df['HalfBath']\n",
        "\n",
        "# Select relevant features\n",
        "features = ['GrLivArea', 'BedroomAbvGr', 'TotalBath']\n",
        "target = 'SalePrice'\n",
        "\n",
        "# Select the features and target for the model\n",
        "X = df[features]\n",
        "y = df[target]\n",
        "\n",
        "# Split the data into training and testing sets\n",
        "X_train, X_test, y_train, y_test = train_test_split(X, y, test_size=0.2, random_state=42)\n",
        "\n",
        "# Initialize and train the model\n",
        "model = LinearRegression()\n",
        "model.fit(X_train, y_train)\n",
        "\n",
        "# Make predictions on the test set\n",
        "y_pred = model.predict(X_test)\n",
        "\n",
        "# Calculate performance metrics\n",
        "mse = mean_squared_error(y_test, y_pred)\n",
        "r2 = r2_score(y_test, y_pred)\n",
        "\n",
        "print(f\"Mean Squared Error: {mse}\")\n",
        "print(f\"R^2 Score: {r2}\")\n",
        "\n",
        "# Example of making predictions for multiple new houses\n",
        "new_houses = pd.DataFrame({\n",
        "    'GrLivArea': [2000, 1500, 1800],\n",
        "    'BedroomAbvGr': [3, 2, 4],\n",
        "    'TotalBath': [2.5, 1.5, 3]\n",
        "})\n",
        "\n",
        "predicted_prices = model.predict(new_houses)\n",
        "\n",
        "# Add the predicted prices to the new_houses DataFrame\n",
        "new_houses['PredictedPrice'] = predicted_prices\n",
        "\n",
        "print(new_houses)\n"
      ]
    },
    {
      "cell_type": "code",
      "source": [],
      "metadata": {
        "id": "2V850dYNGkns"
      },
      "execution_count": null,
      "outputs": []
    }
  ]
}
